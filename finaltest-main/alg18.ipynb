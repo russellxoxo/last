{
  "nbformat": 4,
  "nbformat_minor": 0,
  "metadata": {
    "colab": {
      "name": "alg18.ipynb",
      "provenance": [],
      "collapsed_sections": []
    },
    "kernelspec": {
      "name": "python3",
      "display_name": "Python 3"
    },
    "language_info": {
      "name": "python"
    }
  },
  "cells": [
    {
      "cell_type": "markdown",
      "metadata": {
        "id": "g1QJB-nTvMnj"
      },
      "source": [
        "1. Матрица смежности >> список смежности"
      ]
    },
    {
      "cell_type": "code",
      "metadata": {
        "colab": {
          "base_uri": "https://localhost:8080/"
        },
        "id": "eC_OKAgLtJxW",
        "outputId": "b88b35cc-fd89-4618-9d94-776944ebfb19"
      },
      "source": [
        "a = [[0, 0, 1, 0, 0, 0, 1, 0],\n",
        "    [0, 0, 1, 1, 0, 0, 0, 0],\n",
        "    [1, 1, 0, 1, 1, 0, 0, 0],\n",
        "    [0, 1, 1, 0, 0, 0, 0, 0],\n",
        "    [0, 0, 1, 0, 0, 1, 0, 1],\n",
        "    [0, 0, 0, 0, 1, 0, 0, 0],\n",
        "    [1, 0, 0, 0, 0, 0, 0, 1],\n",
        "    [0, 0, 0, 0, 1, 0, 1, 0]]\n",
        "\n",
        "for i in a:\n",
        "  print(i)\n",
        "print()\n",
        "\n",
        "for i in range(len(a)):\n",
        "    r = 0\n",
        "    print(i+1, end=': ')\n",
        "    for j in range(len(a)):\n",
        "        if a[i][j] == 1:\n",
        "            print(j+1,end=' ')\n",
        "            r += 1\n",
        "    if r==0:\n",
        "        print(0)\n",
        "    else:\n",
        "        print()"
      ],
      "execution_count": 8,
      "outputs": [
        {
          "output_type": "stream",
          "text": [
            "[0, 0, 1, 0, 0, 0, 1, 0]\n",
            "[0, 0, 1, 1, 0, 0, 0, 0]\n",
            "[1, 1, 0, 1, 1, 0, 0, 0]\n",
            "[0, 1, 1, 0, 0, 0, 0, 0]\n",
            "[0, 0, 1, 0, 0, 1, 0, 1]\n",
            "[0, 0, 0, 0, 1, 0, 0, 0]\n",
            "[1, 0, 0, 0, 0, 0, 0, 1]\n",
            "[0, 0, 0, 0, 1, 0, 1, 0]\n",
            "\n",
            "1: 3 7 \n",
            "2: 3 4 \n",
            "3: 1 2 4 5 \n",
            "4: 2 3 \n",
            "5: 3 6 8 \n",
            "6: 5 \n",
            "7: 1 8 \n",
            "8: 5 7 \n"
          ],
          "name": "stdout"
        }
      ]
    },
    {
      "cell_type": "markdown",
      "metadata": {
        "id": "5VzAzEv2t9Lu"
      },
      "source": [
        "2. Список ребер >> список смежности"
      ]
    },
    {
      "cell_type": "code",
      "metadata": {
        "colab": {
          "base_uri": "https://localhost:8080/"
        },
        "id": "2dWz1_5Mraon",
        "outputId": "b01ee38f-853d-4ecb-f17b-72e0c145f31b"
      },
      "source": [
        "print(\"!!!: 1 <= n <= 500;  0 <= m <= n*(n - 1)/2) \")\n",
        "test1 = False\n",
        "test2 = False\n",
        "\n",
        "print(\"n: \", end='')\n",
        "n = int(input())\n",
        "if(n >= 1 and n <= 500): \n",
        "  test1 = True\n",
        "\n",
        "print(\"m: \", end='')\n",
        "m = int(input())\n",
        "if(m >= 0 and m <= n*(n-1)/2): \n",
        "  test2 = True\n",
        "\n",
        "if(test1 and test2):\n",
        "  print()\n",
        "  adj = [[0]*n for _ in range(n)]\n",
        " \n",
        "  for it in range(m):\n",
        "    r, c = map(int, input().split())\n",
        "    adj[r-1][c-1] = adj[c-1][r-1] = 1\n",
        "\n",
        "  print() \n",
        "  for i in adj:\n",
        "    print(i)\n",
        "else:\n",
        "  print(\"ERROR\")"
      ],
      "execution_count": 16,
      "outputs": [
        {
          "output_type": "stream",
          "text": [
            "!!!: 1 <= n <= 500;  0 <= m <= n*(n - 1)/2) \n",
            "n: 5\n",
            "m: 3\n",
            "\n",
            "1 3\n",
            "2 3\n",
            "2 5\n",
            "\n",
            "[0, 0, 1, 0, 0]\n",
            "[0, 0, 1, 0, 1]\n",
            "[1, 1, 0, 0, 0]\n",
            "[0, 0, 0, 0, 0]\n",
            "[0, 1, 0, 0, 0]\n"
          ],
          "name": "stdout"
        }
      ]
    },
    {
      "cell_type": "markdown",
      "metadata": {
        "id": "otbS-OLExT_-"
      },
      "source": [
        "3\tСписок смежности >> список ребер"
      ]
    },
    {
      "cell_type": "code",
      "metadata": {
        "id": "9F0gOxi5xXTa",
        "colab": {
          "base_uri": "https://localhost:8080/"
        },
        "outputId": "55a3f89d-ed72-4f13-92c0-1c4934d4cbcf"
      },
      "source": [
        "A = [[3, 7], \n",
        "     [3, 4], \n",
        "     [2, 4, 5, 1], \n",
        "     [3, 2], \n",
        "     [3, 8, 6], \n",
        "     [5], \n",
        "     [8, 1], \n",
        "     [5, 7]]\n",
        "B = []\n",
        "\n",
        "for i in range(len(A)):\n",
        "  for j in range(len(A[i])):\n",
        "     if (not ([A[i][j], i+1] in B) and not ([i+1, A[i][j]] in B)):\n",
        "        B.append([i+1, A[i][j]])\n",
        "        print(str(i+1), str(A[i][j]))\n"
      ],
      "execution_count": 38,
      "outputs": [
        {
          "output_type": "stream",
          "text": [
            "1 3\n",
            "1 7\n",
            "2 3\n",
            "2 4\n",
            "3 4\n",
            "3 5\n",
            "5 8\n",
            "5 6\n",
            "7 8\n"
          ],
          "name": "stdout"
        }
      ]
    }
  ]
}