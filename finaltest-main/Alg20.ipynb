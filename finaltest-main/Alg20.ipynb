{
  "nbformat": 4,
  "nbformat_minor": 0,
  "metadata": {
    "colab": {
      "name": "Alg20.ipynb",
      "provenance": [],
      "collapsed_sections": []
    },
    "kernelspec": {
      "name": "python3",
      "display_name": "Python 3"
    },
    "language_info": {
      "name": "python"
    }
  },
  "cells": [
    {
      "cell_type": "markdown",
      "metadata": {
        "id": "cRMZH17Tvj-F"
      },
      "source": [
        "Создать двоичное дерево поиска, реализовать один из вариантов балансировки. \n",
        "Сравнить эффективность алгоритмов на случайных и упорядоченных данных.\n"
      ]
    },
    {
      "cell_type": "markdown",
      "metadata": {
        "id": "ug5LiSk9mdoS"
      },
      "source": [
        ""
      ]
    },
    {
      "cell_type": "code",
      "metadata": {
        "colab": {
          "base_uri": "https://localhost:8080/"
        },
        "id": "sJ4gr1DRux4v",
        "outputId": "5c42d52e-5e5e-4d9b-8316-0fc081d7ccaf"
      },
      "source": [
        "class Node:\n",
        "    def __init__(self, val):\n",
        "        self.l = None\n",
        "        self.r = None\n",
        "        self.v = val\n",
        "\n",
        "class Tree:\n",
        "    def __init__(self):\n",
        "        self.root = None\n",
        "\n",
        "    def getRoot(self):\n",
        "        return self.root\n",
        "\n",
        "    def add(self, val):\n",
        "        if(self.root == None):\n",
        "            self.root = Node(val)\n",
        "        else:\n",
        "            self._add(val, self.root)\n",
        "\n",
        "    def _add(self, val, node):\n",
        "        if(val < node.v):\n",
        "            if(node.l != None):\n",
        "                self._add(val, node.l)\n",
        "            else:\n",
        "                node.l = Node(val)\n",
        "        else:\n",
        "            if(node.r != None):\n",
        "                self._add(val, node.r)\n",
        "            else:\n",
        "                node.r = Node(val)\n",
        "\n",
        "    def find(self, val):\n",
        "        if(self.root != None):\n",
        "            return self._find(val, self.root)\n",
        "        else:\n",
        "            return None\n",
        "\n",
        "    def _find(self, val, node):\n",
        "        if(val == node.v):\n",
        "            return node\n",
        "        elif(val < node.v and node.l != None):\n",
        "            self._find(val, node.l)\n",
        "        elif(val > node.v and node.r != None):\n",
        "            self._find(val, node.r)\n",
        "\n",
        "    def deleteTree(self):\n",
        "        # garbage collector will do this for us. \n",
        "        self.root = None\n",
        "\n",
        "    def printTree(self):\n",
        "        if(self.root != None):\n",
        "            self._printTree(self.root)\n",
        "\n",
        "    def _printTree(self, node):\n",
        "        if(node != None):\n",
        "            self._printTree(node.l)\n",
        "            print(str(node.v) + ' ')\n",
        "            self._printTree(node.r)\n",
        "\n",
        "#     3\n",
        "# 0     4\n",
        "#   2      8\n",
        "tree = Tree()\n",
        "tree.add(3)\n",
        "tree.add(4)\n",
        "tree.add(0)\n",
        "tree.add(8)\n",
        "tree.add(2)\n",
        "tree.printTree()\n",
        "print('')\n",
        "\n",
        "print(tree.find(3).v)"
      ],
      "execution_count": 22,
      "outputs": [
        {
          "output_type": "stream",
          "text": [
            "0 \n",
            "2 \n",
            "3 \n",
            "4 \n",
            "8 \n",
            "\n",
            "3\n"
          ],
          "name": "stdout"
        }
      ]
    }
  ]
}